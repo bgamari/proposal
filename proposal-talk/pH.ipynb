{
 "metadata": {
  "name": ""
 },
 "nbformat": 3,
 "nbformat_minor": 0,
 "worksheets": [
  {
   "cells": [
    {
     "cell_type": "code",
     "collapsed": false,
     "input": [
      "ka0 = 10**-2\n",
      "ka1 = 10**-4\n",
      "ka2 = 10**-6"
     ],
     "language": "python",
     "metadata": {},
     "outputs": [],
     "prompt_number": 13
    },
    {
     "cell_type": "code",
     "collapsed": false,
     "input": [
      "ph = linspace(0.1, 14, 1000)\n",
      "h = 10**-ph\n",
      "denom = h**3 + h**2*ka0 + h*ka0*ka1 + ka0*ka1*ka2\n",
      "c3 =       h**3 / denom\n",
      "c2 = ka0 * h**2 / denom\n",
      "c1 = ka1 * ka0 * h**1 / denom\n",
      "c0 = 1 - c1 - c2 - c3"
     ],
     "language": "python",
     "metadata": {},
     "outputs": [],
     "prompt_number": 36
    },
    {
     "cell_type": "code",
     "collapsed": false,
     "input": [
      "clf()\n",
      "plot(ph, c0, label='cationic')\n",
      "plot(ph, c1, label='neutral')\n",
      "plot(ph, c2, label='anion')\n",
      "plot(ph, c3, label='dianion')\n",
      "legend()\n",
      "xlabel('pH')\n",
      "ylabel('Relative concentration')"
     ],
     "language": "python",
     "metadata": {},
     "outputs": [
      {
       "metadata": {},
       "output_type": "pyout",
       "prompt_number": 46,
       "text": [
        "<matplotlib.text.Text at 0x7fa1e40b2d10>"
       ]
      }
     ],
     "prompt_number": 46
    },
    {
     "cell_type": "code",
     "collapsed": false,
     "input": [
      "savefig('figures/ph-dependence.svg')"
     ],
     "language": "python",
     "metadata": {},
     "outputs": [],
     "prompt_number": 47
    },
    {
     "cell_type": "code",
     "collapsed": false,
     "input": [],
     "language": "python",
     "metadata": {},
     "outputs": []
    }
   ],
   "metadata": {}
  }
 ]
}